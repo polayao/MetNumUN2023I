{
  "nbformat": 4,
  "nbformat_minor": 0,
  "metadata": {
    "kernelspec": {
      "display_name": "Python 3",
      "language": "python",
      "name": "python3"
    },
    "language_info": {
      "codemirror_mode": {
        "name": "ipython",
        "version": 3
      },
      "file_extension": ".py",
      "mimetype": "text/x-python",
      "name": "python",
      "nbconvert_exporter": "python",
      "pygments_lexer": "ipython3",
      "version": "3.5.2"
    },
    "colab": {
      "provenance": [],
      "include_colab_link": true
    }
  },
  "cells": [
    {
      "cell_type": "markdown",
      "metadata": {
        "id": "view-in-github",
        "colab_type": "text"
      },
      "source": [
        "<a href=\"https://colab.research.google.com/github/polayao/MetNumUN2023I/blob/main/Lab%2010/polayaoAlgorithmicToolboxWeek3SolvingNonLinearAlgebraicEquations.ipynb\" target=\"_parent\"><img src=\"https://colab.research.google.com/assets/colab-badge.svg\" alt=\"Open In Colab\"/></a>"
      ]
    },
    {
      "cell_type": "markdown",
      "metadata": {
        "id": "h2TxjE6ST95B"
      },
      "source": [
        "# Part I. Root-finding. Newton's iteration."
      ]
    },
    {
      "cell_type": "markdown",
      "metadata": {
        "id": "_qFXBbLXT95F"
      },
      "source": [
        "Write a function which performs Newton's iteration for a given function $f(x)$ with known derivative $f'(x)$. Your function should find the root of $f(x)$ with a predefined absolute accuracy $\\epsilon$. "
      ]
    },
    {
      "cell_type": "code",
      "metadata": {
        "collapsed": true,
        "id": "chRy1mRpT95F"
      },
      "source": [
        "def newton_iteration(f, fder, x0, eps=1e-5, maxiter=1000):\n",
        "    \"\"\"Find a root of $f(x) = 0$ via Newton's iteration starting from x0.\n",
        "    \n",
        "    Parameters\n",
        "    ----------\n",
        "    f : callable\n",
        "        The function to find a root of.\n",
        "    fder : callable\n",
        "        The derivative of `f`.\n",
        "    x0 : float\n",
        "        Initial value for the Newton's iteration.\n",
        "    eps : float\n",
        "        The target accuracy. \n",
        "        The iteration stops when the distance between successive iterates is below `eps`.\n",
        "        Default is 1e-5.\n",
        "    maxiter : int\n",
        "        The maximum number of iterations (default is 1000.)\n",
        "        Iterations terminate if the number of iterations exceeds `maxiter`.\n",
        "        This parameter is only needed to avoid infinite loops if iterations wander off.\n",
        "        \n",
        "    Returns\n",
        "    -------\n",
        "    x : float\n",
        "        The estimate for the root.\n",
        "    niter : int\n",
        "        The number of iterations.\n",
        "    \"\"\"\n",
        "    # ... ENTER YOUR CODE HERE ...\n",
        "    cur = x0 - f(x0)/fder(x0)\n",
        "    prev = x0\n",
        "    \n",
        "    for _ in range(maxiter):\n",
        "        if(abs(cur-prev)<=eps):\n",
        "            break\n",
        "        prev = cur\n",
        "        cur = cur - f(cur)/fder(cur)\n",
        "    \n",
        "    return cur"
      ],
      "execution_count": 5,
      "outputs": []
    },
    {
      "cell_type": "markdown",
      "metadata": {
        "id": "qGsOVPqwT95G"
      },
      "source": [
        "### Test I.1 \n",
        "\n",
        "Test your implementation on a simple example, $f(x) = x^2 - 1$ or similar. (20% of the total grade)"
      ]
    },
    {
      "cell_type": "code",
      "metadata": {
        "collapsed": true,
        "id": "ggan1StnT95H"
      },
      "source": [
        "# ... ENTER YOUR CODE HERE ...\n",
        "import numpy as np\n",
        "from numpy.testing import assert_allclose\n",
        "f = lambda x: (x-1)*(x+1)\n",
        "fd = lambda x: 2*x\n",
        "\n",
        "rndm = np.random.RandomState(1234)\n",
        "a = rndm.uniform(0, 10, size = (2,10))\n",
        "\n",
        "for x0 in a[0]:\n",
        "    assert_allclose(1, newton_iteration(f, fd, x0))\n",
        "\n",
        "for x0 in a[1]:\n",
        "    assert_allclose(-1, newton_iteration(f, fd, -x0))"
      ],
      "execution_count": 6,
      "outputs": []
    },
    {
      "cell_type": "markdown",
      "metadata": {
        "id": "wzkKQBL7T95H"
      },
      "source": [
        "### Test I.2\n",
        "\n",
        "Now consider a function which has a multiple root. Take $f(x) = (x^2 - 1)^2$ as an example. Implement a modified Newton's iteraion,\n",
        "\n",
        "$$\n",
        "x_{n+1} = x_{n} - m \\frac{f(x_n)}{f'(x_n)}\n",
        "$$\n",
        "\n",
        "and vary $m= 1, 2, 3, 4, 5$. Check the number of iterations required for convergence within a fixed $\\epsilon$. Are your observations consistent with the expectation that the convergence is quadratic is $m$ equals the multiplicity of the root, and is linear otherwise? (40% of the total grade)"
      ]
    },
    {
      "cell_type": "code",
      "metadata": {
        "collapsed": true,
        "id": "OIx5yP-9T95I"
      },
      "source": [
        "# ... ENTER YOUR CODE HERE ...\n",
        "def modified_newton(f, fder, x0, m=1, eps=1e-5, maxiter=1000):\n",
        "    cur = x0 - m*f(x0)/fder(x0)\n",
        "    prev = x0\n",
        "    \n",
        "    for _ in range(maxiter):\n",
        "        if(abs(cur-prev)<=eps):\n",
        "            break\n",
        "        prev = cur\n",
        "        cur = cur - m*f(cur)/fder(cur)\n",
        "    \n",
        "    return cur"
      ],
      "execution_count": 7,
      "outputs": []
    },
    {
      "cell_type": "code",
      "source": [
        "def calc_iter(f, fder, x0, m=1, eps=1e-5, maxiter=2**20):\n",
        "    \n",
        "    cur = x0 - m*f(x0)/fder(x0)\n",
        "    prev = x0\n",
        "    num = 1\n",
        "    \n",
        "    while abs(cur-prev)>eps and num<maxiter:\n",
        "        prev = cur\n",
        "        cur = cur - m*f(cur)/fder(cur)\n",
        "        num+=1\n",
        "    if num != maxiter:\n",
        "        return num\n",
        "    else:\n",
        "        return \"not converges\""
      ],
      "metadata": {
        "id": "nW27W95jxLcI"
      },
      "execution_count": 8,
      "outputs": []
    },
    {
      "cell_type": "code",
      "source": [
        "f = lambda x: (x-1)**2*(x+1)**2\n",
        "fd = lambda x: 4*(x-1)*(x+1)*x\n",
        "\n",
        "rndm = np.random.RandomState(1234)\n",
        "a = rndm.uniform(0, 10, size = (2,10))\n",
        "\n",
        "for x0 in a[0]:\n",
        "    assert_allclose(1, modified_newton(f, fd, x0, 2))\n",
        "\n",
        "for x0 in a[1]:\n",
        "    assert_allclose(-1, modified_newton(f, fd, -x0, 2))"
      ],
      "metadata": {
        "id": "Re96sECrxMx-"
      },
      "execution_count": 9,
      "outputs": []
    },
    {
      "cell_type": "code",
      "source": [
        "for m in range(1,6):\n",
        "    print(m, calc_iter(f, fd, a[1][1],m))"
      ],
      "metadata": {
        "colab": {
          "base_uri": "https://localhost:8080/"
        },
        "id": "Tieeh90yxOtY",
        "outputId": "2fe93a67-2b74-41a9-c029-ab2b58f92d5f"
      },
      "execution_count": 10,
      "outputs": [
        {
          "output_type": "stream",
          "name": "stdout",
          "text": [
            "1 22\n",
            "2 6\n",
            "3 18\n",
            "4 not converges\n",
            "5 341159\n"
          ]
        }
      ]
    },
    {
      "cell_type": "markdown",
      "metadata": {
        "id": "T9om2b1lT95I"
      },
      "source": [
        "# Part II. Fixed-point iteration"
      ]
    },
    {
      "cell_type": "markdown",
      "metadata": {
        "id": "urnNPsOKT95J"
      },
      "source": [
        "Consider the following equation:\n",
        "\n",
        "$$\n",
        "\\sqrt{x} = \\cos{x}\n",
        "$$\n",
        "\n",
        "Plot the left-hand side and right-hand side of this equation, and localize the root graphically. Estimate the location of the root by visual inspection of the plot.\n",
        "\n",
        "Write a function which finds the solution using fixed-point iteration up to a predefined accuracy $\\epsilon$. Compare the result to an estimate from a visual inspection.\n",
        "\n",
        "Next, rewrite the fixed-point problem in the form\n",
        "\n",
        "$$\n",
        "x = x - \\alpha f(x)\n",
        "$$\n",
        "\n",
        "where $\\alpha$ is the free parameter. Check the dependence of the number of iterations required for a given $\\epsilon$ on $\\alpha$. Compare your results to an expectation that the optimal value of $\\alpha$ is given by \n",
        "\n",
        "$$\n",
        "\\alpha = \\frac{2}{m + M}\n",
        "$$\n",
        "\n",
        "where $0 < m < |f'(x)| < M$ over the localization interval. (40% of the total grade)"
      ]
    },
    {
      "cell_type": "code",
      "metadata": {
        "collapsed": true,
        "id": "SOlb04UzT95K",
        "colab": {
          "base_uri": "https://localhost:8080/",
          "height": 465
        },
        "outputId": "c3e4fdae-b2ad-4d11-e66c-a00f697af28a"
      },
      "source": [
        "# ... ENTER YOUR CODE HERE ...\n",
        "import matplotlib.pyplot as plt\n",
        "x = np.linspace(0.5, 5, 50)\n",
        "\n",
        "plt.plot(x, np.sqrt(x))\n",
        "plt.plot(x, np.cos(x))\n",
        "plt.legend([1, 2], labels=[\"sqrt\", \"cos\"])\n",
        "\n",
        "plt.show()"
      ],
      "execution_count": 11,
      "outputs": [
        {
          "output_type": "stream",
          "name": "stderr",
          "text": [
            "<ipython-input-11-a1221e0bc725>:7: UserWarning: You have mixed positional and keyword arguments, some input may be discarded.\n",
            "  plt.legend([1, 2], labels=[\"sqrt\", \"cos\"])\n"
          ]
        },
        {
          "output_type": "display_data",
          "data": {
            "text/plain": [
              "<Figure size 640x480 with 1 Axes>"
            ],
            "image/png": "[encoded data removed]"
          },
          "metadata": {}
        }
      ]
    },
    {
      "cell_type": "code",
      "source": [
        "plt.plot(np.linspace(0.5, 1, 50), 1 - (np.sqrt(np.linspace(0.5, 1, 50)) + np.sin(np.linspace(0.5, 1, 50))))\n",
        "plt.legend(labels=[\"derevative of x-f(x)\"])\n",
        "plt.show()"
      ],
      "metadata": {
        "colab": {
          "base_uri": "https://localhost:8080/",
          "height": 430
        },
        "id": "SUmBkjKMx69v",
        "outputId": "18c1b9d0-2294-4b78-ad1e-b4490a7f87aa"
      },
      "execution_count": 12,
      "outputs": [
        {
          "output_type": "display_data",
          "data": {
            "text/plain": [
              "<Figure size 640x480 with 1 Axes>"
            ],
            "image/png": "[encoded data removed]"
          },
          "metadata": {}
        }
      ]
    },
    {
      "cell_type": "markdown",
      "source": [
        "clearly seen that root is inside [0.5, 1] interval\n",
        "\n",
        "declare f(x)  as:\n",
        "$$\n",
        "\\sqrt{x} - \\cos{x}\n",
        "$$\n",
        " , then f'(x) = \n",
        " \n",
        " $$\n",
        "\\frac{1}{2\\sqrt{x}}+sinx \n",
        "$$\n",
        "\n",
        "m and M is 1 and 2"
      ],
      "metadata": {
        "id": "8VB_xV5Dy4LA"
      }
    },
    {
      "cell_type": "code",
      "source": [
        "#Firstly, solving fixed point problem\n",
        "def f_p_sol(eps = 1e-5, alpha = 1):\n",
        "    \n",
        "    prev = 1.5/2\n",
        "    cur = prev - alpha*(np.sqrt(prev) - np.cos(prev))\n",
        "    eps1 = abs(cur - prev)*10\n",
        "    num = 1\n",
        "    \n",
        "    while abs(cur - prev)>0.25*eps and cur>0:\n",
        "        prev = cur\n",
        "        cur = cur - alpha*(np.sqrt(cur) - np.cos(cur))\n",
        "        num+=1\n",
        "        \n",
        "    return cur, num"
      ],
      "metadata": {
        "id": "oMBT0VmGzzuG"
      },
      "execution_count": 13,
      "outputs": []
    },
    {
      "cell_type": "code",
      "source": [
        "for i in [0.1, 0.5, 1.0, 2.0]:\n",
        "    print(i, f_p_sol(alpha = i))"
      ],
      "metadata": {
        "colab": {
          "base_uri": "https://localhost:8080/"
        },
        "id": "4k6965rAz1yr",
        "outputId": "10ff9ad7-b976-4a2e-f064-1b830fb51dc3"
      },
      "execution_count": 14,
      "outputs": [
        {
          "output_type": "stream",
          "name": "stdout",
          "text": [
            "0.1 (0.6417314556204897, 67)\n",
            "0.5 (0.6417156095558334, 12)\n",
            "1.0 (0.6417142154160496, 9)\n",
            "2.0 (-0.11760568315221742, 5)\n"
          ]
        }
      ]
    },
    {
      "cell_type": "code",
      "source": [
        "f_p_sol(alpha = 2.0/3)"
      ],
      "metadata": {
        "colab": {
          "base_uri": "https://localhost:8080/"
        },
        "id": "RmqE6uurz4K6",
        "outputId": "e28a612d-23fe-4895-9683-cd11a764989c"
      },
      "execution_count": 15,
      "outputs": [
        {
          "output_type": "execute_result",
          "data": {
            "text/plain": [
              "(0.6417145071423276, 8)"
            ]
          },
          "metadata": {},
          "execution_count": 15
        }
      ]
    },
    {
      "cell_type": "markdown",
      "metadata": {
        "id": "WaEqb4_ST95K"
      },
      "source": [
        "# Part III. Newton's fractal.\n",
        "\n",
        "(Not graded). \n",
        "\n",
        "Consider the equation\n",
        "\n",
        "$$\n",
        "x^3 = 1\n",
        "$$\n",
        "\n",
        "It has three solutions in the complex plane, $x_k = \\exp(i\\, 2\\pi k/ 3)$, $k = 0, 1, 2$.\n",
        "\n",
        "The Newton's iterations converge to one of these solutions, depending on the starting point in the complex plane (to converge to a complex-valued solution, the iteration needs a complex-valued starting point).\n",
        "\n",
        "Plot the \\emph{basins of attraction} of these roots on the complex plane of $x$ (i.e., on the plane $\\mathrm{Re}x$ -- $\\mathrm{Im}x$). To this end, make a series of calculations, varying the initial conditions on a grid of points. \n",
        "Color the grid in three colors, according to the root, to which iterations converged."
      ]
    },
    {
      "cell_type": "code",
      "metadata": {
        "collapsed": true,
        "id": "WkOcvzD5T95K"
      },
      "source": [],
      "execution_count": 15,
      "outputs": []
    }
  ]
}