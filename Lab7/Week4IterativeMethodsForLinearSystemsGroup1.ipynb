{
  "cells": [
    {
      "cell_type": "markdown",
      "metadata": {
        "id": "view-in-github",
        "colab_type": "text"
      },
      "source": [
        "<a href=\"https://colab.research.google.com/github/polayao/MetNumUN2023I/blob/main/Lab7/Week4IterativeMethodsForLinearSystemsGroup1.ipynb\" target=\"_parent\"><img src=\"https://colab.research.google.com/assets/colab-badge.svg\" alt=\"Open In Colab\"/></a>"
      ]
    },
    {
      "cell_type": "markdown",
      "source": [
        "Grupo 1\n",
        "\n",
        "Obed Felipe Espinosa Angarita\n",
        "\n",
        "Karen Tatiana Alvarez Baez\n",
        "\n",
        "Paula Liliana Olaya Oyola"
      ],
      "metadata": {
        "id": "9fnEJNSckciA"
      }
    },
    {
      "cell_type": "markdown",
      "metadata": {
        "id": "_7zSSeX21Grj"
      },
      "source": [
        "# Simple iteration for systems of linear equations"
      ]
    },
    {
      "cell_type": "markdown",
      "metadata": {
        "id": "GRz8VJ0N1Grn"
      },
      "source": [
        "First, generate a random diagonally dominant matrix, for testing."
      ]
    },
    {
      "cell_type": "code",
      "execution_count": null,
      "metadata": {
        "collapsed": true,
        "id": "jTVkb-WZ1Gro"
      },
      "outputs": [],
      "source": [
        "import numpy as np\n",
        "rndm = np.random.RandomState(1234)\n",
        "\n",
        "n = 10\n",
        "A = rndm.uniform(size=(n, n)) + np.diagflat([15]*n)\n",
        "b = rndm.uniform(size=n)"
      ]
    },
    {
      "cell_type": "code",
      "source": [
        "A"
      ],
      "metadata": {
        "id": "4mv5q-nMKZwY",
        "outputId": "cbf143c3-9b6c-43c3-c74c-dc6c42192f52",
        "colab": {
          "base_uri": "https://localhost:8080/"
        }
      },
      "execution_count": null,
      "outputs": [
        {
          "output_type": "execute_result",
          "data": {
            "text/plain": [
              "array([[1.51915195e+01, 6.22108771e-01, 4.37727739e-01, 7.85358584e-01,\n",
              "        7.79975808e-01, 2.72592605e-01, 2.76464255e-01, 8.01872178e-01,\n",
              "        9.58139354e-01, 8.75932635e-01],\n",
              "       [3.57817270e-01, 1.55009951e+01, 6.83462935e-01, 7.12702027e-01,\n",
              "        3.70250755e-01, 5.61196186e-01, 5.03083165e-01, 1.37684496e-02,\n",
              "        7.72826622e-01, 8.82641191e-01],\n",
              "       [3.64885984e-01, 6.15396178e-01, 1.50753812e+01, 3.68824006e-01,\n",
              "        9.33140102e-01, 6.51378143e-01, 3.97202578e-01, 7.88730143e-01,\n",
              "        3.16836122e-01, 5.68098653e-01],\n",
              "       [8.69127390e-01, 4.36173424e-01, 8.02147642e-01, 1.51437668e+01,\n",
              "        7.04260971e-01, 7.04581308e-01, 2.18792106e-01, 9.24867629e-01,\n",
              "        4.42140755e-01, 9.09315959e-01],\n",
              "       [5.98092228e-02, 1.84287084e-01, 4.73552788e-02, 6.74880944e-01,\n",
              "        1.55946248e+01, 5.33310163e-01, 4.33240627e-02, 5.61433080e-01,\n",
              "        3.29668446e-01, 5.02966833e-01],\n",
              "       [1.11894318e-01, 6.07193706e-01, 5.65944643e-01, 6.76406199e-03,\n",
              "        6.17441709e-01, 1.59121229e+01, 7.90524133e-01, 9.92081466e-01,\n",
              "        9.58801762e-01, 7.91964135e-01],\n",
              "       [2.85250960e-01, 6.24916705e-01, 4.78093796e-01, 1.95675179e-01,\n",
              "        3.82317452e-01, 5.38736851e-02, 1.54516484e+01, 9.82004742e-01,\n",
              "        1.23942700e-01, 1.19380898e-01],\n",
              "       [7.38523056e-01, 5.87303633e-01, 4.71632534e-01, 1.07126817e-01,\n",
              "        2.29218565e-01, 8.99965195e-01, 4.16753538e-01, 1.55358517e+01,\n",
              "        6.20851659e-03, 3.00641706e-01],\n",
              "       [4.36893172e-01, 6.12148997e-01, 9.18198075e-01, 6.25736670e-01,\n",
              "        7.05997565e-01, 1.49833716e-01, 7.46063409e-01, 8.31006992e-01,\n",
              "        1.56337258e+01, 4.38309881e-01],\n",
              "       [1.52572775e-01, 5.68409615e-01, 5.28224278e-01, 9.51428764e-01,\n",
              "        4.80359179e-01, 5.02559563e-01, 5.36878193e-01, 8.19202067e-01,\n",
              "        5.71156381e-02, 1.56694217e+01]])"
            ]
          },
          "metadata": {},
          "execution_count": 2
        }
      ]
    },
    {
      "cell_type": "markdown",
      "metadata": {
        "id": "oNGIGBex1Grq"
      },
      "source": [
        "# I.  Jacobi iteration\n",
        "\n",
        "Given\n",
        "\n",
        "$$\n",
        "A x = b\n",
        "$$\n",
        "\n",
        "separate the diagonal part $D$,\n",
        "\n",
        "$$ A = D + (A - D) $$\n",
        "\n",
        "and write\n",
        "\n",
        "$$\n",
        "x = D^{-1} (D - A) x + D^{-1} b\\;.\n",
        "$$\n",
        "\n",
        "Then iterate\n",
        "\n",
        "$$\n",
        "x_{n + 1} = B x_{n} + c\\;,\n",
        "$$\n",
        "\n",
        "where \n",
        "\n",
        "$$\n",
        "B = D^{-1} (A - D) \\qquad \\text{and} \\qquad c = D^{-1} b\n",
        "$$\n"
      ]
    },
    {
      "cell_type": "markdown",
      "metadata": {
        "id": "rB2PHHIK1Grr"
      },
      "source": [
        "Let's construct the matrix and the r.h.s. for the Jacobi iteration"
      ]
    },
    {
      "cell_type": "code",
      "execution_count": null,
      "metadata": {
        "id": "bnk796g61Grr"
      },
      "outputs": [],
      "source": [
        "diag_1d = np.diag(A)\n",
        "\n",
        "B = -A.copy()\n",
        "np.fill_diagonal(B, 0)\n",
        "\n",
        "D = np.diag(diag_1d)\n",
        "invD = np.diag(1./diag_1d)\n",
        "BB = invD @ B \n",
        "c = invD @ b"
      ]
    },
    {
      "cell_type": "code",
      "execution_count": null,
      "metadata": {
        "id": "0NTUyC3i1Grs"
      },
      "outputs": [],
      "source": [
        "# sanity checks\n",
        "from numpy.testing import assert_allclose\n",
        "\n",
        "assert_allclose(-B + D, A)\n",
        "\n",
        "\n",
        "# xx is a \"ground truth\" solution, compute it using a direct method\n",
        "xx = np.linalg.solve(A, b)\n",
        "\n",
        "np.testing.assert_allclose(A@xx, b)\n",
        "np.testing.assert_allclose(D@xx, B@xx + b)\n",
        "np.testing.assert_allclose(xx, BB@xx + c)"
      ]
    },
    {
      "cell_type": "markdown",
      "metadata": {
        "id": "nRaVUE6U1Grt"
      },
      "source": [
        "Check that $\\| B\\| \\leqslant 1$:"
      ]
    },
    {
      "cell_type": "code",
      "execution_count": null,
      "metadata": {
        "id": "zgED2OGu1Gru",
        "outputId": "51f0d19e-6586-432d-e8a5-95d0bc4d39f2",
        "colab": {
          "base_uri": "https://localhost:8080/"
        }
      },
      "outputs": [
        {
          "output_type": "execute_result",
          "data": {
            "text/plain": [
              "0.36436161983015336"
            ]
          },
          "metadata": {},
          "execution_count": 5
        }
      ],
      "source": [
        "np.linalg.norm(BB)"
      ]
    },
    {
      "cell_type": "markdown",
      "metadata": {
        "id": "rlBcusqg1Grv"
      },
      "source": [
        "### Do the Jacobi iteration"
      ]
    },
    {
      "cell_type": "code",
      "execution_count": null,
      "metadata": {
        "collapsed": true,
        "id": "NK6iwDtm1Grv"
      },
      "outputs": [],
      "source": [
        "n_iter = 50\n",
        "\n",
        "x0 = np.ones(n)\n",
        "x = x0\n",
        "for _ in range(n_iter):\n",
        "    x = BB @ x + c"
      ]
    },
    {
      "cell_type": "code",
      "execution_count": null,
      "metadata": {
        "id": "gsLyio7W1Grw",
        "outputId": "e503fa19-99f3-4a55-cd95-cd91db3b41ac",
        "colab": {
          "base_uri": "https://localhost:8080/"
        }
      },
      "outputs": [
        {
          "output_type": "execute_result",
          "data": {
            "text/plain": [
              "array([ 1.11022302e-16,  0.00000000e+00, -2.22044605e-16, -1.11022302e-16,\n",
              "        1.11022302e-16,  0.00000000e+00, -2.42861287e-17,  0.00000000e+00,\n",
              "       -2.77555756e-17,  1.11022302e-16])"
            ]
          },
          "metadata": {},
          "execution_count": 7
        }
      ],
      "source": [
        "# Check the result:\n",
        "\n",
        "A @ x - b"
      ]
    },
    {
      "cell_type": "markdown",
      "metadata": {
        "id": "MXfb9BuT1Grw"
      },
      "source": [
        "### Task I.1\n",
        "\n",
        "Collect the proof-of-concept above into a single function implementing the Jacobi iteration. This function should receive the r.h.s. matrix $A$, the l.h.s. vector `b`, and the number of iterations to perform.\n",
        "\n",
        "\n",
        "The matrix $A$ in the illustration above is strongly diagonally dominant, by construction. \n",
        "What happens if the diagonal matrix elements of $A$ are made smaller? Check the convergence of the Jacobi iteration, and check the value of the norm of $B$.\n",
        "\n",
        "(20% of the total grade)\n"
      ]
    },
    {
      "cell_type": "code",
      "execution_count": null,
      "metadata": {
        "collapsed": true,
        "id": "5zqTUVVa1Grw",
        "colab": {
          "base_uri": "https://localhost:8080/"
        },
        "outputId": "67eeecbe-2a8c-4cd4-bbc2-bd82f3ac1596"
      },
      "outputs": [
        {
          "output_type": "stream",
          "name": "stdout",
          "text": [
            "Original A:\n",
            "Solution vector: [0.09229869 0.21595253 0.41187576]\n",
            "Norms of differences between consecutive solutions: [0.687386354243376, 0.3791437722025775, 0.19777451035066282, 0.10704482121989833, 0.05698190978314714, 0.03064512627199415, 0.01638126971629196, 0.00879260153435083, 0.004706802221473611, 0.002524255646749693]\n",
            "Norms of matrix B: [3.4641016151377544, 3.4641016151377544, 3.4641016151377544, 3.4641016151377544, 3.4641016151377544, 3.4641016151377544, 3.4641016151377544, 3.4641016151377544, 3.4641016151377544, 3.4641016151377544]\n",
            "\n",
            "Modified A with smaller diagonal elements:\n",
            "Solution vector: [0.92298693 2.15952527 4.11875764]\n",
            "Norms of differences between consecutive solutions: [6.87386354243376, 3.7914377220257753, 1.9777451035066285, 1.0704482121989833, 0.5698190978314713, 0.3064512627199413, 0.16381269716291957, 0.08792601534350843, 0.04706802221473645, 0.025242556467497023]\n",
            "Norms of matrix B: [0.3464101615137755, 0.3464101615137755, 0.3464101615137755, 0.3464101615137755, 0.3464101615137755, 0.3464101615137755, 0.3464101615137755, 0.3464101615137755, 0.3464101615137755, 0.3464101615137755]\n"
          ]
        }
      ],
      "source": [
        "# ... ENTER YOUR CODE HERE ...\n",
        "\n",
        "import numpy as np\n",
        "\n",
        "def jacobi_iteration(M_A, V_b, num_iterations):\n",
        "    n = M_A.shape[0]\n",
        "    x = np.zeros(n)  # Initial guess for solution vector\n",
        "\n",
        "    norms_diff = []\n",
        "    norms_B = []\n",
        "\n",
        "    for _ in range(num_iterations):\n",
        "        x_new = np.zeros(n)\n",
        "        for i in range(n):\n",
        "            x_new[i] = (V_b[i] - np.dot(M_A[i, :i], x[:i]) - np.dot(M_A[i, i+1:], x[i+1:])) / M_A[i, i]\n",
        "        norms_diff.append(np.linalg.norm(x_new - x))\n",
        "        norms_B.append(np.linalg.norm(M_A - np.diag(np.diagonal(M_A))))\n",
        "\n",
        "        x = x_new\n",
        "\n",
        "    return x, norms_diff, norms_B\n",
        "\n",
        "\n",
        "# Example\n",
        "A = np.array([[4, 1, 1],\n",
        "              [1, 5, 2],\n",
        "              [1, 2, 6]])\n",
        "\n",
        "b = np.array([1, 2, 3])\n",
        "\n",
        "num_iterations = 10\n",
        "\n",
        "# Original matrix A\n",
        "x_orig, diff_orig, norm_B_orig = jacobi_iteration(A, b, num_iterations)\n",
        "\n",
        "# Modified matrix A with smaller diagonal elements\n",
        "A_modified = np.array([[0.4, 0.1, 0.1],\n",
        "                       [0.1, 0.5, 0.2],\n",
        "                       [0.1, 0.2, 0.6]])\n",
        "\n",
        "x_modified, diff_modified, norm_B_modified = jacobi_iteration(A_modified, b, num_iterations)\n",
        "\n",
        "print(\"Original A:\")\n",
        "print(\"Solution vector:\", x_orig)\n",
        "print(\"Norms of differences between consecutive solutions:\", diff_orig)\n",
        "print(\"Norms of matrix B:\", norm_B_orig)\n",
        "print()\n",
        "\n",
        "print(\"Modified A with smaller diagonal elements:\")\n",
        "print(\"Solution vector:\", x_modified)\n",
        "print(\"Norms of differences between consecutive solutions:\", diff_modified)\n",
        "print(\"Norms of matrix B:\", norm_B_modified)"
      ]
    },
    {
      "cell_type": "markdown",
      "metadata": {
        "id": "xBnguRFT1Grx"
      },
      "source": [
        "# II. Seidel's iteration."
      ]
    },
    {
      "cell_type": "markdown",
      "metadata": {
        "id": "rSbuFdYU1Grx"
      },
      "source": [
        "##### Task II.1\n",
        "\n",
        "Implement the Seidel's iteration. \n",
        "\n",
        "Test it on a random matrix. Study the convergence of iterations, relate to the norm of the iteration matrix.\n",
        "\n",
        "(30% of the total grade)"
      ]
    },
    {
      "cell_type": "code",
      "execution_count": null,
      "metadata": {
        "collapsed": true,
        "id": "FYygs3Ml1Grx",
        "colab": {
          "base_uri": "https://localhost:8080/"
        },
        "outputId": "dbf37ceb-6524-469c-a967-dd987e5365f5"
      },
      "outputs": [
        {
          "output_type": "stream",
          "name": "stdout",
          "text": [
            "Solution vector: [ 3962.12399076 -2247.30195851  -580.21134662    46.26534349\n",
            "  -676.48455552]\n",
            "Norms of differences between consecutive solutions: [2.9977191618735075, 4.19861576243853, 9.064445302908043, 19.738578817663214, 44.38717960667772, 100.22547793299411, 225.97456679871544, 509.00876409017945, 1146.1908121145125, 2580.819548152575]\n",
            "Norms of iteration matrix B: [1.482023289047244, 1.482023289047244, 1.482023289047244, 1.482023289047244, 1.482023289047244, 1.482023289047244, 1.482023289047244, 1.482023289047244, 1.482023289047244, 1.482023289047244]\n"
          ]
        }
      ],
      "source": [
        "# ... ENTER YOUR CODE HERE ...\n",
        "import numpy as np\n",
        "\n",
        "def gauss_seidel_iteration(A, b, num_iterations):\n",
        "    n = A.shape[0]\n",
        "    x = np.zeros(n)  # Initial guess for solution vector\n",
        "\n",
        "    norms_diff = []\n",
        "    norms_B = []\n",
        "\n",
        "    for _ in range(num_iterations):\n",
        "        x_new = np.zeros(n)\n",
        "        for i in range(n):\n",
        "            x_new[i] = (b[i] - np.dot(A[i, :i], x_new[:i]) - np.dot(A[i, i+1:], x[i+1:])) / A[i, i]\n",
        "        norms_diff.append(np.linalg.norm(x_new - x))\n",
        "        norms_B.append(np.linalg.norm(A - np.tril(A) @ np.triu(A, 1)))\n",
        "\n",
        "        x = x_new\n",
        "\n",
        "    return x, norms_diff, norms_B\n",
        "\n",
        "# Example\n",
        "n = 5  # Size of the matrix\n",
        "A = np.random.rand(n, n)  # Random matrix\n",
        "b = np.random.rand(n)  # Random right-hand side vector\n",
        "num_iterations = 10\n",
        "\n",
        "x, diff, norm_B = gauss_seidel_iteration(A, b, num_iterations)\n",
        "\n",
        "print(\"Solution vector:\", x)\n",
        "print(\"Norms of differences between consecutive solutions:\", diff)\n",
        "print(\"Norms of iteration matrix B:\", norm_B)"
      ]
    },
    {
      "cell_type": "markdown",
      "metadata": {
        "id": "y3PDxY8W1Gry"
      },
      "source": [
        "# III. Minimum residual scheme"
      ]
    },
    {
      "cell_type": "markdown",
      "metadata": {
        "id": "IbfUD6zy1Gry"
      },
      "source": [
        "### Task III.1\n",
        "\n",
        "Implement the $\\textit{minimum residual}$ scheme: an explicit non-stationary method, where at each step you select the iteration parameter $\\tau_n$ to minimize the residual $\\mathbf{r}_{n+1}$ given $\\mathbf{r}_n$. Test it on a random matrix, study the convergence to the solution, in terms of the norm of the residual and the deviation from the ground truth solution (which you can obtain using a direct method). Study how the iteration parameter $\\tau_n$ changes as iterations progress.\n",
        "\n",
        "(50% of the grade)"
      ]
    },
    {
      "cell_type": "code",
      "execution_count": null,
      "metadata": {
        "collapsed": true,
        "id": "60_IGETi1Gry",
        "colab": {
          "base_uri": "https://localhost:8080/"
        },
        "outputId": "b44ec001-bf38-4d2e-aef5-9162642b4642"
      },
      "outputs": [
        {
          "output_type": "stream",
          "name": "stdout",
          "text": [
            "Ground truth solution: [-2.78949331  1.5457915   0.23944318 -0.35412699  1.55915107]\n",
            "MINRES solution: [  33.1777601   -63.41210021   33.2748841   148.05828644 -141.05040495]\n",
            "Norms of residual: [1.9188564554418737, 4.632708784677799, 4.831248769707328, 9.196702577576312, 13.716102574181395, 21.944416737919965, 34.79196005047926, 53.20193651675264, 79.47066687789459, 116.39240738065561]\n",
            "Norms of deviation from ground truth solution: [1.1905315163575663, 14.977257740702182, 4.193212704527434, 7.4661256694975044, 8.176023340920247, 13.982306668641717, 22.964271341074785, 35.86057428492157, 54.82100654298051, 81.89353592957342]\n",
            "Iteration parameter tau values: [1.0, -6.983032012885541, 0.7330882216687573, 0.800636962700809, 0.47577352309886983, 0.4580620743324047, 0.4417946772768998, 0.4161972520170877, 0.3952477384829, 0.37686526210212495]\n"
          ]
        }
      ],
      "source": [
        "# ... ENTER YOUR CODE HERE ...\n",
        "import numpy as np\n",
        "\n",
        "def minres_scheme(A, b, num_iterations):\n",
        "    n = A.shape[0]\n",
        "    x = np.zeros(n)  # Initial guess for solution vector\n",
        "    r = b - A @ x  # Initial residual vector\n",
        "    p = r.copy()  # Initial search direction vector\n",
        "\n",
        "    norms_resid = []\n",
        "    norms_deviation = []\n",
        "    tau_values = []\n",
        "\n",
        "    for k in range(num_iterations):\n",
        "        Ap = A @ p\n",
        "        denom = np.dot(p, Ap)\n",
        "        if denom == 0:\n",
        "            break\n",
        "        tau = np.dot(r, Ap) / denom\n",
        "        x_new = x + tau * p\n",
        "        r_new = r - tau * Ap\n",
        "\n",
        "        norms_resid.append(np.linalg.norm(r_new))\n",
        "        norms_deviation.append(np.linalg.norm(x_new - x))\n",
        "        tau_values.append(tau)\n",
        "\n",
        "        x = x_new\n",
        "        r = r_new\n",
        "        beta = np.linalg.norm(r)\n",
        "        p = r + (beta / np.linalg.norm(r)) * p\n",
        "\n",
        "    return x, norms_resid, norms_deviation, tau_values\n",
        "\n",
        "# Example\n",
        "\n",
        "n = 5  # Size of the matrix\n",
        "A = np.random.rand(n, n)  # Random matrix\n",
        "b = np.random.rand(n)  # Random right-hand side vector\n",
        "num_iterations = 10\n",
        "\n",
        "# Obtain ground truth solution using a direct method\n",
        "x_ground_truth = np.linalg.solve(A, b)\n",
        "\n",
        "x_minres, norms_resid, norms_deviation, tau_values = minres_scheme(A, b, num_iterations)\n",
        "\n",
        "print(\"Ground truth solution:\", x_ground_truth)\n",
        "print(\"MINRES solution:\", x_minres)\n",
        "print(\"Norms of residual:\", norms_resid)\n",
        "print(\"Norms of deviation from ground truth solution:\", norms_deviation)\n",
        "print(\"Iteration parameter tau values:\", tau_values)"
      ]
    }
  ],
  "metadata": {
    "kernelspec": {
      "display_name": "Python 3",
      "language": "python",
      "name": "python3"
    },
    "language_info": {
      "codemirror_mode": {
        "name": "ipython",
        "version": 3
      },
      "file_extension": ".py",
      "mimetype": "text/x-python",
      "name": "python",
      "nbconvert_exporter": "python",
      "pygments_lexer": "ipython3",
      "version": "3.5.2"
    },
    "colab": {
      "provenance": [],
      "include_colab_link": true
    }
  },
  "nbformat": 4,
  "nbformat_minor": 0
}